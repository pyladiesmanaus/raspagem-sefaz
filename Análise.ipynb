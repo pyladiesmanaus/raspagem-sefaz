{
 "cells": [
  {
   "cell_type": "markdown",
   "metadata": {},
   "source": [
    "# Limpeza e Análise de Dados\n",
    "\n",
    "O objetivo desta atividade consiste na limpeza e análise dos dados obtidos na raspagem realizada na aba de despesas do site da Sefaz. Para isto, procederemos como segue: \n",
    "0. Preparação\n",
    "1. Limpeza dos dados\n",
    "2. Estatísticas e Visualização\n",
    "3. Análise e Discussão\n",
    "\n",
    "Estes passos podem ocorrer de maneira cíclica até que o agente esteja satisfeito."
   ]
  },
  {
   "cell_type": "markdown",
   "metadata": {},
   "source": [
    "## 0. Preparação\n",
    "\n",
    "### Importação de Bibliotecas"
   ]
  },
  {
   "cell_type": "code",
   "execution_count": null,
   "metadata": {},
   "outputs": [],
   "source": [
    "%matplotlib inline \n",
    "import pandas as pd # manipulação de dados\n",
    "import matplotlib.pyplot as plt # visualização\n",
    "import seaborn as sns #visualização\n",
    "sns.set(style=\"whitegrid\") # Pra ficar bonitinho"
   ]
  },
  {
   "cell_type": "markdown",
   "metadata": {},
   "source": [
    "### Leitura do conjunto de dados"
   ]
  },
  {
   "cell_type": "code",
   "execution_count": null,
   "metadata": {},
   "outputs": [],
   "source": [
    "df_fonte = pd.read_csv('output/sefaz-Fonte de Recurso.csv', index_col=0)\n",
    "print(df_fonte.shape)\n",
    "df_fonte"
   ]
  },
  {
   "cell_type": "markdown",
   "metadata": {},
   "source": [
    "## 1. Limpeza\n",
    "\n",
    "Esta etapa envolve a remoção de colunas e linhas incompletas, irrelevantes ou erradas."
   ]
  },
  {
   "cell_type": "markdown",
   "metadata": {},
   "source": [
    "### Remoção\n",
    "\n",
    "df_fonte.drop(itens, axis=?, inplace=?)\n",
    "\n",
    "itens: colunas ou linhas que devem ser removidas\n",
    "\n",
    "axis: \n",
    "* 0: linhas\n",
    "* 1: colunas\n",
    "\n",
    "inplace: transcrever a base atual com a nova? (True ou False)"
   ]
  },
  {
   "cell_type": "code",
   "execution_count": null,
   "metadata": {},
   "outputs": [],
   "source": [
    "df_fonte.drop(['0', '1'], axis=1, inplace=True)\n",
    "\n",
    "df_fonte"
   ]
  },
  {
   "cell_type": "markdown",
   "metadata": {},
   "source": [
    "#### Aumentar a quantidade de linhas que podem ser visualizadas:"
   ]
  },
  {
   "cell_type": "code",
   "execution_count": null,
   "metadata": {},
   "outputs": [],
   "source": [
    "pd.options.display.max_rows = 10000"
   ]
  },
  {
   "cell_type": "markdown",
   "metadata": {},
   "source": [
    "#### Visualizar o conjunto de dados novamente"
   ]
  },
  {
   "cell_type": "code",
   "execution_count": null,
   "metadata": {
    "scrolled": true
   },
   "outputs": [],
   "source": [
    "print(df_fonte.shape)\n",
    "df_fonte"
   ]
  },
  {
   "cell_type": "markdown",
   "metadata": {},
   "source": [
    "#### Remover NaNs\n",
    "\n",
    "df_fonte.dropna(subset=?, inplace=?)\n",
    "\n",
    "subset: conjunto de linhas ou colunas que devem ser analisadas"
   ]
  },
  {
   "cell_type": "code",
   "execution_count": null,
   "metadata": {},
   "outputs": [],
   "source": [
    "df_fonte.dropna(subset=['Fonte de Recurso', 'Dotação Inicial', \n",
    "                        'Autorizado', 'Empenhado', 'Liquidado', \n",
    "                        'Pago', 'Pago Exercício Anterior', \n",
    "                        'A Pagar Exercício Anterior'], inplace=True)\n",
    "print(df_fonte.shape)"
   ]
  },
  {
   "cell_type": "markdown",
   "metadata": {},
   "source": [
    "#### Problema: O cabeçalho se repete!\n",
    "\n",
    "Isolando linhas em que isso ocorre:"
   ]
  },
  {
   "cell_type": "code",
   "execution_count": null,
   "metadata": {
    "scrolled": true
   },
   "outputs": [],
   "source": [
    "df_fonte.loc[df_fonte['Dotação Inicial']=='Dotação Inicial']"
   ]
  },
  {
   "cell_type": "markdown",
   "metadata": {},
   "source": [
    "#### Removendo linhas em que o cabeçalho se repete:"
   ]
  },
  {
   "cell_type": "code",
   "execution_count": null,
   "metadata": {},
   "outputs": [],
   "source": [
    "df_fonte.drop(df_fonte.loc[df_fonte['Dotação Inicial']=='Dotação Inicial'].index, inplace=True)\n",
    "df_fonte"
   ]
  },
  {
   "cell_type": "markdown",
   "metadata": {},
   "source": [
    "#### Verificar totais"
   ]
  },
  {
   "cell_type": "code",
   "execution_count": null,
   "metadata": {
    "scrolled": true
   },
   "outputs": [],
   "source": [
    "df_fonte.loc[df_fonte['Fonte de Recurso']=='Total:']"
   ]
  },
  {
   "cell_type": "markdown",
   "metadata": {},
   "source": [
    "#### Remover linhas duplicadas\n",
    "\n",
    "Note que há repetições em que a Dotação Inicil está descrita com .00, e outras em que está com .0 !!\n",
    "\n",
    "Os dados estão em formato de texto! Vamos convertê-los para reais:"
   ]
  },
  {
   "cell_type": "code",
   "execution_count": null,
   "metadata": {},
   "outputs": [],
   "source": [
    "df_fonte.dtypes"
   ]
  },
  {
   "cell_type": "code",
   "execution_count": null,
   "metadata": {},
   "outputs": [],
   "source": [
    "df_fonte[['Dotação Inicial',\n",
    "          'Autorizado', 'Empenhado', 'Liquidado', \n",
    "          'Pago', 'Pago Exercício Anterior', \n",
    "          'A Pagar Exercício Anterior']] = df_fonte[['Dotação Inicial',\n",
    "                                                     'Autorizado', 'Empenhado', 'Liquidado', \n",
    "                                                     'Pago', 'Pago Exercício Anterior', \n",
    "                                                     'A Pagar Exercício Anterior']].astype(float)\n",
    "\n",
    "df_fonte.drop_duplicates(keep='first', inplace=True)\n",
    "df_fonte.shape"
   ]
  },
  {
   "cell_type": "markdown",
   "metadata": {},
   "source": [
    "#### Verificar totais novamente: "
   ]
  },
  {
   "cell_type": "code",
   "execution_count": null,
   "metadata": {},
   "outputs": [],
   "source": [
    "df_fonte.loc[df_fonte['Fonte de Recurso']=='Total:']"
   ]
  },
  {
   "cell_type": "markdown",
   "metadata": {},
   "source": [
    "#### Atribuir totais a outro conjunto de dados e removê-los do conjunto principal"
   ]
  },
  {
   "cell_type": "code",
   "execution_count": null,
   "metadata": {},
   "outputs": [],
   "source": [
    "df_fonte_totais = df_fonte.loc[df_fonte['Fonte de Recurso']=='Total:']\n",
    "df_fonte.drop(df_fonte.loc[df_fonte['Fonte de Recurso']=='Total:'].index, inplace=True)"
   ]
  },
  {
   "cell_type": "code",
   "execution_count": null,
   "metadata": {
    "scrolled": true
   },
   "outputs": [],
   "source": [
    "df_fonte_totais"
   ]
  },
  {
   "cell_type": "code",
   "execution_count": null,
   "metadata": {},
   "outputs": [],
   "source": [
    "df_fonte"
   ]
  },
  {
   "cell_type": "markdown",
   "metadata": {},
   "source": [
    "### Dados limpos!!!"
   ]
  },
  {
   "cell_type": "markdown",
   "metadata": {},
   "source": [
    "## 2. Estatísticas e Visualização"
   ]
  },
  {
   "cell_type": "markdown",
   "metadata": {},
   "source": [
    "Para ajudar na visualização: "
   ]
  },
  {
   "cell_type": "code",
   "execution_count": null,
   "metadata": {},
   "outputs": [],
   "source": [
    "pd.options.display.float_format = '{:20,.2f}'.format"
   ]
  },
  {
   "cell_type": "markdown",
   "metadata": {},
   "source": [
    "#### Descrição dos conjuntos:"
   ]
  },
  {
   "cell_type": "code",
   "execution_count": null,
   "metadata": {},
   "outputs": [],
   "source": [
    "df_fonte.describe()"
   ]
  },
  {
   "cell_type": "code",
   "execution_count": null,
   "metadata": {},
   "outputs": [],
   "source": [
    "df_fonte_totais.describe()"
   ]
  },
  {
   "cell_type": "markdown",
   "metadata": {},
   "source": [
    "Plotar quantidade de vezes que cada fonte de recurso esteve presente nos relatórios da Sefaz"
   ]
  },
  {
   "cell_type": "code",
   "execution_count": null,
   "metadata": {},
   "outputs": [],
   "source": [
    "plt.clf()\n",
    "fig, ax = plt.subplots(figsize=(8,18))\n",
    "sns.countplot(ax=ax, y='Fonte de Recurso', data=df_fonte)\n",
    "ax.set_xlabel(\"Quantidade\")\n",
    "ax.figure.savefig(\"output/graficos/linha-total.png\")"
   ]
  },
  {
   "cell_type": "markdown",
   "metadata": {},
   "source": [
    "Plotar um gráfico de barras que mostre os valores a ser pagos do exercício anterior por ano"
   ]
  },
  {
   "cell_type": "code",
   "execution_count": null,
   "metadata": {},
   "outputs": [],
   "source": [
    "plt.clf()\n",
    "fig, ax = plt.subplots(figsize=(10,4))\n",
    "sns.barplot(ax=ax, x='ano', y='A Pagar Exercício Anterior', data=df_fonte_totais)\n",
    "ax.set_xlabel(\"Ano\")\n",
    "ax.figure.savefig(\"output/graficos/barra-a-pagar.png\")"
   ]
  },
  {
   "cell_type": "markdown",
   "metadata": {},
   "source": [
    "Plotar um gráfico de barras que mostre os valores a ser pagos do exercício anterior por fonte de recurso"
   ]
  },
  {
   "cell_type": "code",
   "execution_count": null,
   "metadata": {},
   "outputs": [],
   "source": [
    "plt.clf()\n",
    "fig, ax = plt.subplots(figsize=(10, 30))\n",
    "sns.barplot(ax=ax, x='A Pagar Exercício Anterior', y='Fonte de Recurso', data=df_fonte)\n",
    "ax.figure.savefig(\"output/graficos/barra-a-pagar.png\")"
   ]
  },
  {
   "cell_type": "markdown",
   "metadata": {},
   "source": [
    "Plotar um gráfico de linhas com os valores em cada ano"
   ]
  },
  {
   "cell_type": "code",
   "execution_count": null,
   "metadata": {},
   "outputs": [],
   "source": [
    "df_fonte_totais.columns.drop(['ano', 'periodo', 'consulta'])"
   ]
  },
  {
   "cell_type": "code",
   "execution_count": null,
   "metadata": {
    "scrolled": true
   },
   "outputs": [],
   "source": [
    "df_fonte_totais.index = df_fonte_totais['ano']\n",
    "df_fonte_totais.drop(['ano', 'grupo', 'periodo', 'consulta','Fonte de Recurso'], axis=1, inplace=True)"
   ]
  },
  {
   "cell_type": "code",
   "execution_count": null,
   "metadata": {},
   "outputs": [],
   "source": [
    "plt.clf()\n",
    "fig, ax = plt.subplots(figsize=(20, 10))\n",
    "sns.lineplot(data=df_fonte_totais[['Dotação Inicial','Autorizado','Empenhado',\n",
    "                                   'Liquidado','Pago', 'Pago Exercício Anterior', \n",
    "                                   'A Pagar Exercício Anterior']], dashes=False)\n",
    "ax.figure.savefig(\"output/graficos/linha-total.png\")"
   ]
  },
  {
   "cell_type": "code",
   "execution_count": null,
   "metadata": {},
   "outputs": [],
   "source": []
  }
 ],
 "metadata": {
  "kernelspec": {
   "display_name": "Python 3",
   "language": "python",
   "name": "python3"
  },
  "language_info": {
   "codemirror_mode": {
    "name": "ipython",
    "version": 3
   },
   "file_extension": ".py",
   "mimetype": "text/x-python",
   "name": "python",
   "nbconvert_exporter": "python",
   "pygments_lexer": "ipython3",
   "version": "3.6.7"
  }
 },
 "nbformat": 4,
 "nbformat_minor": 2
}
